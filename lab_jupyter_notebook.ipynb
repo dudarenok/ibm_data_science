{
 "cells": [
  {
   "cell_type": "markdown",
   "metadata": {},
   "source": [
    "<center>\n",
    "    <img src=\"https://cf-courses-data.s3.us.cloud-object-storage.appdomain.cloud/IBMDeveloperSkillsNetwork-DS0105EN-SkillsNetwork/labs/Module2/images/SN_web_lightmode.png\" width=\"300\" alt=\"cognitiveclass.ai logo\"  />\n",
    "</center>\n"
   ]
  },
  {
   "cell_type": "markdown",
   "metadata": {},
   "source": [
    "#### Add your code below following the instructions given in the course\n"
   ]
  },
  {
   "cell_type": "markdown",
   "metadata": {},
   "source": [
    "<a href=\"https://dataplatform.cloud.ibm.com/gallery\">IBM Cloud Gallery</a>"
   ]
  },
  {
   "cell_type": "markdown",
   "metadata": {},
   "source": [
    "# My Jupyter Notebook on IBM Watson Studio"
   ]
  },
  {
   "cell_type": "markdown",
   "metadata": {},
   "source": [
    "**Alena Dudarenok**\n",
    "<br>\n",
    "Data Scientist"
   ]
  },
  {
   "cell_type": "markdown",
   "metadata": {},
   "source": [
    "*I am interested in data science because it is future and helps to understand the data and make it useful!*"
   ]
  },
  {
   "cell_type": "markdown",
   "metadata": {},
   "source": [
    "### Code below calculates the sum of 1 and 1"
   ]
  },
  {
   "cell_type": "code",
   "execution_count": 1,
   "metadata": {},
   "outputs": [
    {
     "data": {
      "text/plain": [
       "2"
      ]
     },
     "execution_count": 1,
     "metadata": {},
     "output_type": "execute_result"
    }
   ],
   "source": [
    "1 + 1"
   ]
  },
  {
   "cell_type": "markdown",
   "metadata": {},
   "source": [
    "<h3>Horizontal rule</h3>\n",
    "<hr>\n",
    "<h3>Bulleted list</h3>\n",
    "<ul>\n",
    "  <li>Apple</li>\n",
    "  <li>Banana</li>\n",
    "  <li>Orange</li>\n",
    "</ul>\n",
    "<h3>Numbered list</h3>\n",
    "<ol>\n",
    "  <li>Apple</li>\n",
    "  <li>Banana</li>\n",
    "  <li>Orange</li>\n",
    "</ol>\n",
    "<h3>Table</h3>\n",
    "<table>\n",
    "  <tr>\n",
    "    <th>col1</th>\n",
    "    <th>col2</th>\n",
    "    <th>col3</th>\n",
    "  </tr>\n",
    "  <tr>\n",
    "    <td>val1</td>\n",
    "    <td>val2</td>\n",
    "    <td>val3</td>\n",
    "  </tr>\n",
    "  <tr>\n",
    "    <td>val4</td>\n",
    "    <td>val5</td>\n",
    "    <td>val6</td>\n",
    "  </tr>\n",
    "</table>\n",
    "<h3>Hyperlink</h3>\n",
    "<p><a href=\"https://www.google.com/\">Google</a></p>\n",
    "<h3>Image</h3>\n",
    "<img src=\"https://img.freepik.com/vektoren-kostenlos/fruehlingsblumensammlung_23-2148853687.jpg\" alt=\"Flowers\">\n"
   ]
  },
  {
   "cell_type": "code",
   "execution_count": null,
   "metadata": {},
   "outputs": [],
   "source": []
  }
 ],
 "metadata": {
  "kernelspec": {
   "display_name": "Python",
   "language": "python",
   "name": "conda-env-python-py"
  },
  "language_info": {
   "codemirror_mode": {
    "name": "ipython",
    "version": 3
   },
   "file_extension": ".py",
   "mimetype": "text/x-python",
   "name": "python",
   "nbconvert_exporter": "python",
   "pygments_lexer": "ipython3",
   "version": "3.7.12"
  }
 },
 "nbformat": 4,
 "nbformat_minor": 4
}
